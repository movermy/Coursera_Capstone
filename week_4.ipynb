{
 "cells": [
  {
   "cell_type": "markdown",
   "metadata": {},
   "source": [
    "\n",
    "# __Where should I move?__  \n",
    "A moving guidance app based on foursquare and clustering in python\n"
   ]
  },
  {
   "cell_type": "markdown",
   "metadata": {},
   "source": [
    "# Table of Contents\n",
    "1. [Introduction/Business Problem](#intro)\n",
    "1. [Python related setup](#setup)\n",
    "1. [Data](#data)"
   ]
  },
  {
   "cell_type": "markdown",
   "metadata": {},
   "source": [
    "<a id='intro'></a>"
   ]
  },
  {
   "cell_type": "markdown",
   "metadata": {},
   "source": [
    "# Introduction/Business Problem"
   ]
  },
  {
   "cell_type": "markdown",
   "metadata": {},
   "source": [
    "So many people move to an area unfamiliar to them for a job. These moves often occur in a tight time-frame due to schedule pressures with career start dates. This forces people to pick a neighborhood quickly, with limited time to see if it is a good fit. What if there was there was tool that related neighborhoods in a new city to those a person was already familiar with?\n",
    "\n",
    "In this project, I will assume a user has lived in two regions, and is considering a move to two more. I will create maps coding the regions of both the familiar and unfamiliar places. That way, the user can select a new neighborhood that has properties they like from their old neighborhood.\n",
    "\n",
    "The intent is for this to be a proof of concept that could be related to arbitrary old and new neighborhoods, extending the use of this tool to a broadly marketable application service"
   ]
  },
  {
   "cell_type": "markdown",
   "metadata": {},
   "source": [
    "<a id='setup'></a>"
   ]
  },
  {
   "cell_type": "markdown",
   "metadata": {},
   "source": [
    "# Setup"
   ]
  },
  {
   "cell_type": "code",
   "execution_count": 11,
   "metadata": {},
   "outputs": [],
   "source": [
    "import pandas as pd"
   ]
  },
  {
   "cell_type": "code",
   "execution_count": 16,
   "metadata": {},
   "outputs": [],
   "source": [
    "# define a helpful foursquare looper function\n",
    "def getNearbyVenues(names, latitudes, longitudes, radius=500):\n",
    "    \n",
    "    venues_list=[]\n",
    "    for name, lat, lng in zip(names, latitudes, longitudes):\n",
    "        print(name)\n",
    "\n",
    "        # create the API request URL\n",
    "        url = 'https://api.foursquare.com/v2/venues/explore?&client_id={}&client_secret={}&v={}&ll={},{}&radius={}&limit={}'.format(\n",
    "            CLIENT_ID, \n",
    "            CLIENT_SECRET, \n",
    "            VERSION, \n",
    "            lat, \n",
    "            lng, \n",
    "            radius, \n",
    "            LIMIT)\n",
    "\n",
    "        # make the GET request\n",
    "        results = requests.get(url).json()[\"response\"]['groups'][0]['items']\n",
    "\n",
    "        # return only relevant information for each nearby venue\n",
    "        venues_list.append([(\n",
    "            name, \n",
    "            lat, \n",
    "            lng, \n",
    "            v['venue']['name'], \n",
    "            v['venue']['location']['lat'], \n",
    "            v['venue']['location']['lng'],  \n",
    "            v['venue']['categories'][0]['name']) for v in results])\n",
    "\n",
    "    nearby_venues = pd.DataFrame([item for venue_list in venues_list for item in venue_list])\n",
    "    nearby_venues.columns = ['Neighborhood', \n",
    "                  'Neighborhood Latitude', \n",
    "                  'Neighborhood Longitude', \n",
    "                  'Venue', \n",
    "                  'Venue Latitude', \n",
    "                  'Venue Longitude', \n",
    "                  'Venue Category']\n",
    "            \n",
    "    \n",
    "    return(nearby_venues)"
   ]
  },
  {
   "cell_type": "markdown",
   "metadata": {},
   "source": [
    "<a id='data'></a>"
   ]
  },
  {
   "cell_type": "markdown",
   "metadata": {},
   "source": [
    "# Data"
   ]
  },
  {
   "cell_type": "markdown",
   "metadata": {},
   "source": [
    "For this example, it is assumed that a person grew up in Toronto, then moved to Manhattan and is now considering a move to either Queens or Staten Island.\n",
    "\n",
    "The New York area data comes from the Week 3's lab. I have stored the Neighborhoods data, which contains neighborhoods with their latitude, longitude and borough. For Queens and Staten Island, foursquare will need to be used to gather venue information. I have stored the venues data table for Manhattan, which already has venues from foursquare.\n",
    "\n",
    "The Toronto area data source is Week 3's lab content, which has neighborhood with latitude, longitude and venue.\n",
    "\n",
    "All of this data will need to be formatted for clustering, including one-hot formatting and label cleaning."
   ]
  },
  {
   "cell_type": "markdown",
   "metadata": {},
   "source": [
    "## Familiar Area 1: Toronto Data"
   ]
  },
  {
   "cell_type": "code",
   "execution_count": 8,
   "metadata": {},
   "outputs": [
    {
     "data": {
      "text/html": [
       "<div>\n",
       "<style scoped>\n",
       "    .dataframe tbody tr th:only-of-type {\n",
       "        vertical-align: middle;\n",
       "    }\n",
       "\n",
       "    .dataframe tbody tr th {\n",
       "        vertical-align: top;\n",
       "    }\n",
       "\n",
       "    .dataframe thead th {\n",
       "        text-align: right;\n",
       "    }\n",
       "</style>\n",
       "<table border=\"1\" class=\"dataframe\">\n",
       "  <thead>\n",
       "    <tr style=\"text-align: right;\">\n",
       "      <th></th>\n",
       "      <th>Postal Code</th>\n",
       "      <th>Latitude</th>\n",
       "      <th>Longitude</th>\n",
       "    </tr>\n",
       "  </thead>\n",
       "  <tbody>\n",
       "    <tr>\n",
       "      <th>0</th>\n",
       "      <td>M1B</td>\n",
       "      <td>43.806686</td>\n",
       "      <td>-79.194353</td>\n",
       "    </tr>\n",
       "    <tr>\n",
       "      <th>1</th>\n",
       "      <td>M1C</td>\n",
       "      <td>43.784535</td>\n",
       "      <td>-79.160497</td>\n",
       "    </tr>\n",
       "    <tr>\n",
       "      <th>2</th>\n",
       "      <td>M1E</td>\n",
       "      <td>43.763573</td>\n",
       "      <td>-79.188711</td>\n",
       "    </tr>\n",
       "    <tr>\n",
       "      <th>3</th>\n",
       "      <td>M1G</td>\n",
       "      <td>43.770992</td>\n",
       "      <td>-79.216917</td>\n",
       "    </tr>\n",
       "    <tr>\n",
       "      <th>4</th>\n",
       "      <td>M1H</td>\n",
       "      <td>43.773136</td>\n",
       "      <td>-79.239476</td>\n",
       "    </tr>\n",
       "  </tbody>\n",
       "</table>\n",
       "</div>"
      ],
      "text/plain": [
       "  Postal Code   Latitude  Longitude\n",
       "0         M1B  43.806686 -79.194353\n",
       "1         M1C  43.784535 -79.160497\n",
       "2         M1E  43.763573 -79.188711\n",
       "3         M1G  43.770992 -79.216917\n",
       "4         M1H  43.773136 -79.239476"
      ]
     },
     "execution_count": 8,
     "metadata": {},
     "output_type": "execute_result"
    }
   ],
   "source": [
    "# From week 3 lab\n",
    "toronto_coordinates_df = pd.read_csv(\"Geospatial_Coordinates.csv\")\n",
    "toronto_coordinates_df.head()"
   ]
  },
  {
   "cell_type": "code",
   "execution_count": 35,
   "metadata": {},
   "outputs": [
    {
     "name": "stdout",
     "output_type": "stream",
     "text": [
      " The shape of the toronto table is: (2226, 7)\n"
     ]
    },
    {
     "data": {
      "text/html": [
       "<div>\n",
       "<style scoped>\n",
       "    .dataframe tbody tr th:only-of-type {\n",
       "        vertical-align: middle;\n",
       "    }\n",
       "\n",
       "    .dataframe tbody tr th {\n",
       "        vertical-align: top;\n",
       "    }\n",
       "\n",
       "    .dataframe thead th {\n",
       "        text-align: right;\n",
       "    }\n",
       "</style>\n",
       "<table border=\"1\" class=\"dataframe\">\n",
       "  <thead>\n",
       "    <tr style=\"text-align: right;\">\n",
       "      <th></th>\n",
       "      <th>Neighborhood</th>\n",
       "      <th>Neighborhood Latitude</th>\n",
       "      <th>Neighborhood Longitude</th>\n",
       "      <th>Venue</th>\n",
       "      <th>Venue Latitude</th>\n",
       "      <th>Venue Longitude</th>\n",
       "      <th>Venue Category</th>\n",
       "    </tr>\n",
       "  </thead>\n",
       "  <tbody>\n",
       "    <tr>\n",
       "      <th>0</th>\n",
       "      <td>Rouge, Malvern</td>\n",
       "      <td>43.806686</td>\n",
       "      <td>-79.194353</td>\n",
       "      <td>Wendy's</td>\n",
       "      <td>43.807448</td>\n",
       "      <td>-79.199056</td>\n",
       "      <td>Fast Food Restaurant</td>\n",
       "    </tr>\n",
       "    <tr>\n",
       "      <th>1</th>\n",
       "      <td>Highland Creek, Rouge Hill, Port Union</td>\n",
       "      <td>43.784535</td>\n",
       "      <td>-79.160497</td>\n",
       "      <td>Royal Canadian Legion</td>\n",
       "      <td>43.782533</td>\n",
       "      <td>-79.163085</td>\n",
       "      <td>Bar</td>\n",
       "    </tr>\n",
       "    <tr>\n",
       "      <th>2</th>\n",
       "      <td>Highland Creek, Rouge Hill, Port Union</td>\n",
       "      <td>43.784535</td>\n",
       "      <td>-79.160497</td>\n",
       "      <td>Affordable Toronto Movers</td>\n",
       "      <td>43.787919</td>\n",
       "      <td>-79.162977</td>\n",
       "      <td>Moving Target</td>\n",
       "    </tr>\n",
       "    <tr>\n",
       "      <th>3</th>\n",
       "      <td>Highland Creek, Rouge Hill, Port Union</td>\n",
       "      <td>43.784535</td>\n",
       "      <td>-79.160497</td>\n",
       "      <td>Scarborough Historical Society</td>\n",
       "      <td>43.788755</td>\n",
       "      <td>-79.162438</td>\n",
       "      <td>History Museum</td>\n",
       "    </tr>\n",
       "    <tr>\n",
       "      <th>4</th>\n",
       "      <td>Guildwood, Morningside, West Hill</td>\n",
       "      <td>43.763573</td>\n",
       "      <td>-79.188711</td>\n",
       "      <td>Swiss Chalet Rotisserie &amp; Grill</td>\n",
       "      <td>43.767697</td>\n",
       "      <td>-79.189914</td>\n",
       "      <td>Pizza Place</td>\n",
       "    </tr>\n",
       "  </tbody>\n",
       "</table>\n",
       "</div>"
      ],
      "text/plain": [
       "                             Neighborhood  Neighborhood Latitude  \\\n",
       "0                          Rouge, Malvern              43.806686   \n",
       "1  Highland Creek, Rouge Hill, Port Union              43.784535   \n",
       "2  Highland Creek, Rouge Hill, Port Union              43.784535   \n",
       "3  Highland Creek, Rouge Hill, Port Union              43.784535   \n",
       "4       Guildwood, Morningside, West Hill              43.763573   \n",
       "\n",
       "   Neighborhood Longitude                            Venue  Venue Latitude  \\\n",
       "0              -79.194353                          Wendy's       43.807448   \n",
       "1              -79.160497            Royal Canadian Legion       43.782533   \n",
       "2              -79.160497        Affordable Toronto Movers       43.787919   \n",
       "3              -79.160497   Scarborough Historical Society       43.788755   \n",
       "4              -79.188711  Swiss Chalet Rotisserie & Grill       43.767697   \n",
       "\n",
       "   Venue Longitude        Venue Category  \n",
       "0       -79.199056  Fast Food Restaurant  \n",
       "1       -79.163085                   Bar  \n",
       "2       -79.162977         Moving Target  \n",
       "3       -79.162438        History Museum  \n",
       "4       -79.189914           Pizza Place  "
      ]
     },
     "execution_count": 35,
     "metadata": {},
     "output_type": "execute_result"
    }
   ],
   "source": [
    "# From week 3 lab\n",
    "toronto_venues_df = pd.read_pickle(\"toronto_venues.p\")\n",
    "print(f\" The shape of the toronto table is: {toronto_venues_df.shape}\")\n",
    "toronto_venues_df.head()"
   ]
  },
  {
   "cell_type": "markdown",
   "metadata": {},
   "source": [
    "## Familiar Area 2: Manhattan Data"
   ]
  },
  {
   "cell_type": "code",
   "execution_count": 36,
   "metadata": {},
   "outputs": [
    {
     "name": "stdout",
     "output_type": "stream",
     "text": [
      "The shape of the manhattan table is: (3303, 7)\n"
     ]
    },
    {
     "data": {
      "text/html": [
       "<div>\n",
       "<style scoped>\n",
       "    .dataframe tbody tr th:only-of-type {\n",
       "        vertical-align: middle;\n",
       "    }\n",
       "\n",
       "    .dataframe tbody tr th {\n",
       "        vertical-align: top;\n",
       "    }\n",
       "\n",
       "    .dataframe thead th {\n",
       "        text-align: right;\n",
       "    }\n",
       "</style>\n",
       "<table border=\"1\" class=\"dataframe\">\n",
       "  <thead>\n",
       "    <tr style=\"text-align: right;\">\n",
       "      <th></th>\n",
       "      <th>Neighborhood</th>\n",
       "      <th>Neighborhood Latitude</th>\n",
       "      <th>Neighborhood Longitude</th>\n",
       "      <th>Venue</th>\n",
       "      <th>Venue Latitude</th>\n",
       "      <th>Venue Longitude</th>\n",
       "      <th>Venue Category</th>\n",
       "    </tr>\n",
       "  </thead>\n",
       "  <tbody>\n",
       "    <tr>\n",
       "      <th>0</th>\n",
       "      <td>Marble Hill</td>\n",
       "      <td>40.876551</td>\n",
       "      <td>-73.91066</td>\n",
       "      <td>Arturo's</td>\n",
       "      <td>40.874412</td>\n",
       "      <td>-73.910271</td>\n",
       "      <td>Pizza Place</td>\n",
       "    </tr>\n",
       "    <tr>\n",
       "      <th>1</th>\n",
       "      <td>Marble Hill</td>\n",
       "      <td>40.876551</td>\n",
       "      <td>-73.91066</td>\n",
       "      <td>Bikram Yoga</td>\n",
       "      <td>40.876844</td>\n",
       "      <td>-73.906204</td>\n",
       "      <td>Yoga Studio</td>\n",
       "    </tr>\n",
       "    <tr>\n",
       "      <th>2</th>\n",
       "      <td>Marble Hill</td>\n",
       "      <td>40.876551</td>\n",
       "      <td>-73.91066</td>\n",
       "      <td>Tibbett Diner</td>\n",
       "      <td>40.880404</td>\n",
       "      <td>-73.908937</td>\n",
       "      <td>Diner</td>\n",
       "    </tr>\n",
       "    <tr>\n",
       "      <th>3</th>\n",
       "      <td>Marble Hill</td>\n",
       "      <td>40.876551</td>\n",
       "      <td>-73.91066</td>\n",
       "      <td>Starbucks</td>\n",
       "      <td>40.877531</td>\n",
       "      <td>-73.905582</td>\n",
       "      <td>Coffee Shop</td>\n",
       "    </tr>\n",
       "    <tr>\n",
       "      <th>4</th>\n",
       "      <td>Marble Hill</td>\n",
       "      <td>40.876551</td>\n",
       "      <td>-73.91066</td>\n",
       "      <td>Dunkin'</td>\n",
       "      <td>40.877136</td>\n",
       "      <td>-73.906666</td>\n",
       "      <td>Donut Shop</td>\n",
       "    </tr>\n",
       "  </tbody>\n",
       "</table>\n",
       "</div>"
      ],
      "text/plain": [
       "  Neighborhood  Neighborhood Latitude  Neighborhood Longitude          Venue  \\\n",
       "0  Marble Hill              40.876551               -73.91066       Arturo's   \n",
       "1  Marble Hill              40.876551               -73.91066    Bikram Yoga   \n",
       "2  Marble Hill              40.876551               -73.91066  Tibbett Diner   \n",
       "3  Marble Hill              40.876551               -73.91066      Starbucks   \n",
       "4  Marble Hill              40.876551               -73.91066        Dunkin'   \n",
       "\n",
       "   Venue Latitude  Venue Longitude Venue Category  \n",
       "0       40.874412       -73.910271    Pizza Place  \n",
       "1       40.876844       -73.906204    Yoga Studio  \n",
       "2       40.880404       -73.908937          Diner  \n",
       "3       40.877531       -73.905582    Coffee Shop  \n",
       "4       40.877136       -73.906666     Donut Shop  "
      ]
     },
     "execution_count": 36,
     "metadata": {},
     "output_type": "execute_result"
    }
   ],
   "source": [
    "# From week 3 tutorial\n",
    "manhattan_venues_df = pd.read_pickle(\"manhattan_venues.p\")\n",
    "print(f\"The shape of the manhattan table is: {manhattan_venues_df.shape}\")\n",
    "manhattan_venues_df.head()"
   ]
  },
  {
   "cell_type": "markdown",
   "metadata": {},
   "source": [
    "## Unfamiliar Place 1: Queens"
   ]
  },
  {
   "cell_type": "code",
   "execution_count": 37,
   "metadata": {},
   "outputs": [
    {
     "data": {
      "text/html": [
       "<div>\n",
       "<style scoped>\n",
       "    .dataframe tbody tr th:only-of-type {\n",
       "        vertical-align: middle;\n",
       "    }\n",
       "\n",
       "    .dataframe tbody tr th {\n",
       "        vertical-align: top;\n",
       "    }\n",
       "\n",
       "    .dataframe thead th {\n",
       "        text-align: right;\n",
       "    }\n",
       "</style>\n",
       "<table border=\"1\" class=\"dataframe\">\n",
       "  <thead>\n",
       "    <tr style=\"text-align: right;\">\n",
       "      <th></th>\n",
       "      <th>Borough</th>\n",
       "      <th>Neighborhood</th>\n",
       "      <th>Latitude</th>\n",
       "      <th>Longitude</th>\n",
       "    </tr>\n",
       "  </thead>\n",
       "  <tbody>\n",
       "    <tr>\n",
       "      <th>129</th>\n",
       "      <td>Queens</td>\n",
       "      <td>Astoria</td>\n",
       "      <td>40.768509</td>\n",
       "      <td>-73.915654</td>\n",
       "    </tr>\n",
       "    <tr>\n",
       "      <th>130</th>\n",
       "      <td>Queens</td>\n",
       "      <td>Woodside</td>\n",
       "      <td>40.746349</td>\n",
       "      <td>-73.901842</td>\n",
       "    </tr>\n",
       "    <tr>\n",
       "      <th>131</th>\n",
       "      <td>Queens</td>\n",
       "      <td>Jackson Heights</td>\n",
       "      <td>40.751981</td>\n",
       "      <td>-73.882821</td>\n",
       "    </tr>\n",
       "    <tr>\n",
       "      <th>132</th>\n",
       "      <td>Queens</td>\n",
       "      <td>Elmhurst</td>\n",
       "      <td>40.744049</td>\n",
       "      <td>-73.881656</td>\n",
       "    </tr>\n",
       "    <tr>\n",
       "      <th>133</th>\n",
       "      <td>Queens</td>\n",
       "      <td>Howard Beach</td>\n",
       "      <td>40.654225</td>\n",
       "      <td>-73.838138</td>\n",
       "    </tr>\n",
       "  </tbody>\n",
       "</table>\n",
       "</div>"
      ],
      "text/plain": [
       "    Borough     Neighborhood   Latitude  Longitude\n",
       "129  Queens          Astoria  40.768509 -73.915654\n",
       "130  Queens         Woodside  40.746349 -73.901842\n",
       "131  Queens  Jackson Heights  40.751981 -73.882821\n",
       "132  Queens         Elmhurst  40.744049 -73.881656\n",
       "133  Queens     Howard Beach  40.654225 -73.838138"
      ]
     },
     "execution_count": 37,
     "metadata": {},
     "output_type": "execute_result"
    }
   ],
   "source": [
    "queens_df = all_new_york_df.loc[all_new_york_df.Borough == 'Queens']\n",
    "queens_df.head()"
   ]
  },
  {
   "cell_type": "markdown",
   "metadata": {},
   "source": [
    "## Unfamiliar Place 2: Staten Island"
   ]
  },
  {
   "cell_type": "code",
   "execution_count": 31,
   "metadata": {},
   "outputs": [
    {
     "data": {
      "text/html": [
       "<div>\n",
       "<style scoped>\n",
       "    .dataframe tbody tr th:only-of-type {\n",
       "        vertical-align: middle;\n",
       "    }\n",
       "\n",
       "    .dataframe tbody tr th {\n",
       "        vertical-align: top;\n",
       "    }\n",
       "\n",
       "    .dataframe thead th {\n",
       "        text-align: right;\n",
       "    }\n",
       "</style>\n",
       "<table border=\"1\" class=\"dataframe\">\n",
       "  <thead>\n",
       "    <tr style=\"text-align: right;\">\n",
       "      <th></th>\n",
       "      <th>Borough</th>\n",
       "      <th>Neighborhood</th>\n",
       "      <th>Latitude</th>\n",
       "      <th>Longitude</th>\n",
       "    </tr>\n",
       "  </thead>\n",
       "  <tbody>\n",
       "    <tr>\n",
       "      <th>197</th>\n",
       "      <td>Staten Island</td>\n",
       "      <td>St. George</td>\n",
       "      <td>40.644982</td>\n",
       "      <td>-74.079353</td>\n",
       "    </tr>\n",
       "    <tr>\n",
       "      <th>198</th>\n",
       "      <td>Staten Island</td>\n",
       "      <td>New Brighton</td>\n",
       "      <td>40.640615</td>\n",
       "      <td>-74.087017</td>\n",
       "    </tr>\n",
       "    <tr>\n",
       "      <th>199</th>\n",
       "      <td>Staten Island</td>\n",
       "      <td>Stapleton</td>\n",
       "      <td>40.626928</td>\n",
       "      <td>-74.077902</td>\n",
       "    </tr>\n",
       "    <tr>\n",
       "      <th>200</th>\n",
       "      <td>Staten Island</td>\n",
       "      <td>Rosebank</td>\n",
       "      <td>40.615305</td>\n",
       "      <td>-74.069805</td>\n",
       "    </tr>\n",
       "    <tr>\n",
       "      <th>201</th>\n",
       "      <td>Staten Island</td>\n",
       "      <td>West Brighton</td>\n",
       "      <td>40.631879</td>\n",
       "      <td>-74.107182</td>\n",
       "    </tr>\n",
       "  </tbody>\n",
       "</table>\n",
       "</div>"
      ],
      "text/plain": [
       "           Borough   Neighborhood   Latitude  Longitude\n",
       "197  Staten Island     St. George  40.644982 -74.079353\n",
       "198  Staten Island   New Brighton  40.640615 -74.087017\n",
       "199  Staten Island      Stapleton  40.626928 -74.077902\n",
       "200  Staten Island       Rosebank  40.615305 -74.069805\n",
       "201  Staten Island  West Brighton  40.631879 -74.107182"
      ]
     },
     "execution_count": 31,
     "metadata": {},
     "output_type": "execute_result"
    }
   ],
   "source": [
    "staten_island_df = all_new_york_df.loc[all_new_york_df.Borough == 'Staten Island']\n",
    "staten_island_df.head()"
   ]
  },
  {
   "cell_type": "code",
   "execution_count": null,
   "metadata": {},
   "outputs": [],
   "source": []
  }
 ],
 "metadata": {
  "kernelspec": {
   "display_name": "Python 3",
   "language": "python",
   "name": "python3"
  },
  "language_info": {
   "codemirror_mode": {
    "name": "ipython",
    "version": 3
   },
   "file_extension": ".py",
   "mimetype": "text/x-python",
   "name": "python",
   "nbconvert_exporter": "python",
   "pygments_lexer": "ipython3",
   "version": "3.6.5"
  }
 },
 "nbformat": 4,
 "nbformat_minor": 2
}
